{
 "cells": [
  {
   "cell_type": "code",
   "execution_count": null,
   "id": "a56e202d-1fb5-401b-be8a-f112c9c5c5c8",
   "metadata": {},
   "outputs": [],
   "source": [
    "!pip install transformers datasets torch"
   ]
  },
  {
   "cell_type": "code",
   "execution_count": null,
   "id": "cf7ecf57-d6d8-411a-b0d0-8bdc143204f5",
   "metadata": {},
   "outputs": [],
   "source": [
    "import pandas as pd\n",
    "from datasets import Dataset\n",
    "from transformers import AutoTokenizer, AutoModelForSequenceClassification\n",
    "from transformers import Trainer, TrainingArguments"
   ]
  },
  {
   "cell_type": "code",
   "execution_count": null,
   "id": "df9cc82b-fa79-419e-9e82-f7e151f90365",
   "metadata": {},
   "outputs": [],
   "source": [
    "df = pd.read_csv(\"synthetic_reviews.csv\")\n",
    "dataset = Dataset.from_pandas(df)"
   ]
  },
  {
   "cell_type": "code",
   "execution_count": null,
   "id": "2ea7a22d-21e2-4fe7-b66e-a6f75996a767",
   "metadata": {},
   "outputs": [],
   "source": [
    "# Load pre-trained Llama 3.1 tokenizer and model for sentiment classification\n",
    "model_name = \"meta-llama/Llama-3.1-8b\"\n",
    "tokenizer = AutoTokenizer.from_pretrained(model_name)\n",
    "model = AutoModelForSequenceClassification.from_pretrained(model_name, num_labels=3)"
   ]
  },
  {
   "cell_type": "code",
   "execution_count": null,
   "id": "22a2e537-420b-4a62-b094-e5916bef7826",
   "metadata": {},
   "outputs": [],
   "source": [
    "# Step 1: Tokenize each text entry in the dataset individually\n",
    "tokenized_datasets = dataset.map(lambda examples: tokenizer(examples['text'], padding=\"max_length\", truncation=True), batched=True)"
   ]
  },
  {
   "cell_type": "code",
   "execution_count": null,
   "id": "7366d2b6-d6bc-4b68-a990-99ab78fa18c7",
   "metadata": {},
   "outputs": [],
   "source": [
    "# Define training arguments\n",
    "training_args = TrainingArguments(\n",
    "    output_dir=\"./results\",\n",
    "    evaluation_strategy=\"epoch\",\n",
    "    learning_rate=2e-5,\n",
    "    per_device_train_batch_size=16,\n",
    "    per_device_eval_batch_size=16,\n",
    "    num_train_epochs=3,\n",
    "    weight_decay=0.01,\n",
    "    logging_dir='./logs'\n",
    ")\n",
    "\n",
    "# Define Trainer\n",
    "trainer = Trainer(\n",
    "    model=model,\n",
    "    args=training_args,\n",
    "    train_dataset=tokenized_datasets,\n",
    ")"
   ]
  },
  {
   "cell_type": "code",
   "execution_count": null,
   "id": "6a7fdf4a-2603-4b23-8577-80efb4256deb",
   "metadata": {},
   "outputs": [],
   "source": [
    "# Start training\n",
    "trainer.train()"
   ]
  },
  {
   "cell_type": "code",
   "execution_count": null,
   "id": "a9e1a36b-52da-49e2-8840-7da1c3d77cb2",
   "metadata": {},
   "outputs": [],
   "source": [
    "# Save the model\n",
    "model.save_pretrained(\"./fine_tuned_llama_3.1_sentiment\")"
   ]
  }
 ],
 "metadata": {
  "kernelspec": {
   "display_name": "Python 3.9",
   "language": "python",
   "name": "python3"
  },
  "language_info": {
   "codemirror_mode": {
    "name": "ipython",
    "version": 3
   },
   "file_extension": ".py",
   "mimetype": "text/x-python",
   "name": "python",
   "nbconvert_exporter": "python",
   "pygments_lexer": "ipython3",
   "version": "3.9.16"
  }
 },
 "nbformat": 4,
 "nbformat_minor": 5
}
