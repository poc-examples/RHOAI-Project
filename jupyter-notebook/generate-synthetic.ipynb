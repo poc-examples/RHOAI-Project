{
 "cells": [
  {
   "cell_type": "code",
   "execution_count": 1,
   "id": "56247828-9773-40eb-9d98-a3577469620c",
   "metadata": {
    "tags": []
   },
   "outputs": [
    {
     "name": "stdout",
     "output_type": "stream",
     "text": [
      "Collecting openai==0.28\n",
      "  Downloading openai-0.28.0-py3-none-any.whl (76 kB)\n",
      "\u001b[2K     \u001b[90m━━━━━━━━━━━━━━━━━━━━━━━━━━━━━━━━━━━━━━━━\u001b[0m \u001b[32m76.5/76.5 kB\u001b[0m \u001b[31m1.4 MB/s\u001b[0m eta \u001b[36m0:00:00\u001b[0ma \u001b[36m0:00:01\u001b[0m\n",
      "\u001b[?25hRequirement already satisfied: pandas in /opt/app-root/lib/python3.9/site-packages (2.2.2)\n",
      "Requirement already satisfied: tqdm in /opt/app-root/lib/python3.9/site-packages (from openai==0.28) (4.66.5)\n",
      "Requirement already satisfied: aiohttp in /opt/app-root/lib/python3.9/site-packages (from openai==0.28) (3.10.5)\n",
      "Requirement already satisfied: requests>=2.20 in /opt/app-root/lib/python3.9/site-packages (from openai==0.28) (2.32.3)\n",
      "Requirement already satisfied: pytz>=2020.1 in /opt/app-root/lib/python3.9/site-packages (from pandas) (2024.1)\n",
      "Requirement already satisfied: tzdata>=2022.7 in /opt/app-root/lib/python3.9/site-packages (from pandas) (2024.1)\n",
      "Requirement already satisfied: numpy>=1.22.4 in /opt/app-root/lib/python3.9/site-packages (from pandas) (1.26.4)\n",
      "Requirement already satisfied: python-dateutil>=2.8.2 in /opt/app-root/lib/python3.9/site-packages (from pandas) (2.9.0.post0)\n",
      "Requirement already satisfied: six>=1.5 in /opt/app-root/lib/python3.9/site-packages (from python-dateutil>=2.8.2->pandas) (1.16.0)\n",
      "Requirement already satisfied: urllib3<3,>=1.21.1 in /opt/app-root/lib/python3.9/site-packages (from requests>=2.20->openai==0.28) (1.26.19)\n",
      "Requirement already satisfied: idna<4,>=2.5 in /opt/app-root/lib/python3.9/site-packages (from requests>=2.20->openai==0.28) (3.8)\n",
      "Requirement already satisfied: charset-normalizer<4,>=2 in /opt/app-root/lib/python3.9/site-packages (from requests>=2.20->openai==0.28) (3.3.2)\n",
      "Requirement already satisfied: certifi>=2017.4.17 in /opt/app-root/lib/python3.9/site-packages (from requests>=2.20->openai==0.28) (2024.7.4)\n",
      "Requirement already satisfied: multidict<7.0,>=4.5 in /opt/app-root/lib/python3.9/site-packages (from aiohttp->openai==0.28) (6.0.5)\n",
      "Requirement already satisfied: async-timeout<5.0,>=4.0 in /opt/app-root/lib/python3.9/site-packages (from aiohttp->openai==0.28) (4.0.3)\n",
      "Requirement already satisfied: frozenlist>=1.1.1 in /opt/app-root/lib/python3.9/site-packages (from aiohttp->openai==0.28) (1.4.1)\n",
      "Requirement already satisfied: aiohappyeyeballs>=2.3.0 in /opt/app-root/lib/python3.9/site-packages (from aiohttp->openai==0.28) (2.4.0)\n",
      "Requirement already satisfied: aiosignal>=1.1.2 in /opt/app-root/lib/python3.9/site-packages (from aiohttp->openai==0.28) (1.3.1)\n",
      "Requirement already satisfied: yarl<2.0,>=1.0 in /opt/app-root/lib/python3.9/site-packages (from aiohttp->openai==0.28) (1.9.4)\n",
      "Requirement already satisfied: attrs>=17.3.0 in /opt/app-root/lib/python3.9/site-packages (from aiohttp->openai==0.28) (24.2.0)\n",
      "Installing collected packages: openai\n",
      "  Attempting uninstall: openai\n",
      "    Found existing installation: openai 1.46.1\n",
      "    Uninstalling openai-1.46.1:\n",
      "      Successfully uninstalled openai-1.46.1\n",
      "Successfully installed openai-0.28.0\n",
      "\n",
      "\u001b[1m[\u001b[0m\u001b[34;49mnotice\u001b[0m\u001b[1;39;49m]\u001b[0m\u001b[39;49m A new release of pip available: \u001b[0m\u001b[31;49m22.2.2\u001b[0m\u001b[39;49m -> \u001b[0m\u001b[32;49m24.2\u001b[0m\n",
      "\u001b[1m[\u001b[0m\u001b[34;49mnotice\u001b[0m\u001b[1;39;49m]\u001b[0m\u001b[39;49m To update, run: \u001b[0m\u001b[32;49mpip install --upgrade pip\u001b[0m\n"
     ]
    }
   ],
   "source": [
    "!pip install openai==0.28 pandas"
   ]
  },
  {
   "cell_type": "code",
   "execution_count": 2,
   "id": "c9bd43b7-d6e4-46a3-928e-208ca603ff8a",
   "metadata": {
    "tags": []
   },
   "outputs": [],
   "source": [
    "import openai\n",
    "import pandas as pd\n",
    "import time"
   ]
  },
  {
   "cell_type": "code",
   "execution_count": 3,
   "id": "23cd4359-e49e-4229-b660-5deabeaec152",
   "metadata": {
    "tags": []
   },
   "outputs": [],
   "source": [
    "openai.api_key = 'KEY'"
   ]
  },
  {
   "cell_type": "code",
   "execution_count": 4,
   "id": "65a9d8e0-e3e3-4c7c-8791-8a254df6a0c0",
   "metadata": {},
   "outputs": [],
   "source": [
    "# We will generate 10 reviews for each sentiment: positive, negative, and neutral\n",
    "positive_reviews = []\n",
    "negative_reviews = []\n",
    "neutral_reviews = []\n",
    "\n",
    "# Define the prompts for each sentiment type\n",
    "positive_prompt = \"Generate a positive product review with a friendly tone.\"\n",
    "negative_prompt = \"Generate a negative product review with a dissatisfied tone.\"\n",
    "neutral_prompt = \"Generate a neutral product review.\""
   ]
  },
  {
   "cell_type": "code",
   "execution_count": 6,
   "id": "e82d8b10-e920-47ba-a74c-27e347051216",
   "metadata": {},
   "outputs": [],
   "source": [
    "# Generate 10 positive reviews\n",
    "for _ in range(10):\n",
    "    response = openai.ChatCompletion.create(\n",
    "        model=\"gpt-4\",\n",
    "        messages=[\n",
    "            {\"role\": \"system\", \"content\": \"You are a helpful assistant.\"},\n",
    "            {\"role\": \"user\", \"content\": positive_prompt}\n",
    "        ],\n",
    "        max_tokens=60,\n",
    "        temperature=0.7,\n",
    "    )\n",
    "    review = response['choices'][0]['message']['content'].strip()\n",
    "    positive_reviews.append({'text': review, 'label': 'positive'})\n",
    "    time.sleep(1)"
   ]
  },
  {
   "cell_type": "code",
   "execution_count": 12,
   "id": "e838e770-58b8-4c10-904c-0690b2b154dc",
   "metadata": {
    "tags": []
   },
   "outputs": [
    {
     "name": "stdout",
     "output_type": "stream",
     "text": [
      "positive: Title: A Stellar Experience with the Bose Qui\n",
      "positive: Title: Exceptional Experience with the Sony W\n",
      "positive: Title: A Blissful Experience with the New App\n",
      "positive: Title: Delighted with my new PowerBlend 500 B\n",
      "positive: Title: The Magic of Bose QuietComfort 35 II W\n",
      "positive: Title: Unforgettable Experience with the Appl\n",
      "positive: Title: A Heavenly Experience with Apple's iPh\n",
      "positive: Title: A Delightful Experience with Apple's i\n",
      "positive: Title: A Remarkable Experience with the Apple\n",
      "positive: Title: A Delightful Experience with the Apple\n"
     ]
    }
   ],
   "source": [
    "for review in positive_reviews:\n",
    "    print(f\"{review['label']}: {review['text'][0:45]}\")"
   ]
  },
  {
   "cell_type": "code",
   "execution_count": 18,
   "id": "89552c58-75b9-49d2-b510-17c08dba1a74",
   "metadata": {},
   "outputs": [],
   "source": [
    "# Generate 10 negative reviews\n",
    "for _ in range(10):\n",
    "    response = openai.ChatCompletion.create(\n",
    "        model=\"gpt-4\",\n",
    "        messages=[\n",
    "            {\"role\": \"system\", \"content\": \"You are a helpful assistant.\"},\n",
    "            {\"role\": \"user\", \"content\": negative_prompt}\n",
    "        ],\n",
    "        max_tokens=60,\n",
    "        temperature=0.7,\n",
    "    )\n",
    "    review = response['choices'][0]['message']['content'].strip()\n",
    "    negative_reviews.append({'text': review, 'label': 'negative'})\n",
    "    time.sleep(1)"
   ]
  },
  {
   "cell_type": "code",
   "execution_count": 15,
   "id": "81c6f1ff-755c-4659-b9e5-5d7dffbd20b7",
   "metadata": {
    "tags": []
   },
   "outputs": [
    {
     "name": "stdout",
     "output_type": "stream",
     "text": [
      "negative: Title: \"Extremely Disappointed with\n",
      "negative: Title: Absolutely Disappointing Exp\n",
      "negative: Title: Extremely Disappointing Purc\n",
      "negative: Title: Extremely Disappointing Expe\n",
      "negative: Title: Completely Disappointing and\n",
      "negative: Title: Truly Disappointing Purchase\n",
      "negative: Title: Absolutely Disappointing Pur\n",
      "negative: Title: Extremely Disappointing Expe\n",
      "negative: Title: Extremely Disappointing Expe\n",
      "negative: Title: A Disappointing Experience\n",
      "\n",
      "\n"
     ]
    }
   ],
   "source": [
    "for review in negative_reviews:\n",
    "    print(f\"{review['label']}: {review['text'][0:35]}\")"
   ]
  },
  {
   "cell_type": "code",
   "execution_count": 20,
   "id": "267a9a0a-d046-4faa-98bf-57da959e95d1",
   "metadata": {},
   "outputs": [],
   "source": [
    "# Generate 10 neutral reviews\n",
    "for _ in range(10):\n",
    "    response = openai.ChatCompletion.create(\n",
    "        model=\"gpt-4\",\n",
    "        messages=[\n",
    "            {\"role\": \"system\", \"content\": \"You are a helpful assistant.\"},\n",
    "            {\"role\": \"user\", \"content\": neutral_prompt}\n",
    "        ],\n",
    "        max_tokens=60,\n",
    "        temperature=0.7,\n",
    "    )\n",
    "    review = response['choices'][0]['message']['content'].strip()\n",
    "    neutral_reviews.append({'text': review, 'label': 'neutral'})\n",
    "    time.sleep(1)"
   ]
  },
  {
   "cell_type": "code",
   "execution_count": 23,
   "id": "edf9aec6-2ace-4ea8-8b74-450a3c6aab6f",
   "metadata": {
    "tags": []
   },
   "outputs": [
    {
     "name": "stdout",
     "output_type": "stream",
     "text": [
      "neutral: How can I assist you\n",
      "neutral: Product: XYZ Wireles\n",
      "neutral: Product: Sony WH-100\n",
      "neutral: Product Title: XYZ H\n",
      "neutral: Product: Samsung Gal\n",
      "neutral: Product: XYZ Wireles\n",
      "neutral: Product: XYZ Smartwa\n",
      "neutral: Product: ABC Headpho\n",
      "neutral: Product: Samsung Gal\n",
      "neutral: Product: Samsung Gal\n",
      "neutral: Product: Sony WH-100\n"
     ]
    }
   ],
   "source": [
    "for review in neutral_reviews:\n",
    "    print(f\"{review['label']}: {review['text'][0:20]}\")"
   ]
  },
  {
   "cell_type": "code",
   "execution_count": 24,
   "id": "0511a872-50da-4111-ac96-192ea5c01fa9",
   "metadata": {},
   "outputs": [],
   "source": [
    "# Combine the reviews into a DataFrame\n",
    "all_reviews = positive_reviews + negative_reviews + neutral_reviews\n",
    "df = pd.DataFrame(all_reviews)"
   ]
  },
  {
   "cell_type": "code",
   "execution_count": 25,
   "id": "575533c8-432e-47af-9267-1f0b7a4bc968",
   "metadata": {
    "tags": []
   },
   "outputs": [
    {
     "data": {
      "text/html": [
       "<div>\n",
       "<style scoped>\n",
       "    .dataframe tbody tr th:only-of-type {\n",
       "        vertical-align: middle;\n",
       "    }\n",
       "\n",
       "    .dataframe tbody tr th {\n",
       "        vertical-align: top;\n",
       "    }\n",
       "\n",
       "    .dataframe thead th {\n",
       "        text-align: right;\n",
       "    }\n",
       "</style>\n",
       "<table border=\"1\" class=\"dataframe\">\n",
       "  <thead>\n",
       "    <tr style=\"text-align: right;\">\n",
       "      <th></th>\n",
       "      <th>text</th>\n",
       "      <th>label</th>\n",
       "    </tr>\n",
       "  </thead>\n",
       "  <tbody>\n",
       "    <tr>\n",
       "      <th>0</th>\n",
       "      <td>Title: A Stellar Experience with the Bose Quie...</td>\n",
       "      <td>positive</td>\n",
       "    </tr>\n",
       "    <tr>\n",
       "      <th>1</th>\n",
       "      <td>Title: Exceptional Experience with the Sony WH...</td>\n",
       "      <td>positive</td>\n",
       "    </tr>\n",
       "    <tr>\n",
       "      <th>2</th>\n",
       "      <td>Title: A Blissful Experience with the New Appl...</td>\n",
       "      <td>positive</td>\n",
       "    </tr>\n",
       "    <tr>\n",
       "      <th>3</th>\n",
       "      <td>Title: Delighted with my new PowerBlend 500 Bl...</td>\n",
       "      <td>positive</td>\n",
       "    </tr>\n",
       "    <tr>\n",
       "      <th>4</th>\n",
       "      <td>Title: The Magic of Bose QuietComfort 35 II Wi...</td>\n",
       "      <td>positive</td>\n",
       "    </tr>\n",
       "  </tbody>\n",
       "</table>\n",
       "</div>"
      ],
      "text/plain": [
       "                                                text     label\n",
       "0  Title: A Stellar Experience with the Bose Quie...  positive\n",
       "1  Title: Exceptional Experience with the Sony WH...  positive\n",
       "2  Title: A Blissful Experience with the New Appl...  positive\n",
       "3  Title: Delighted with my new PowerBlend 500 Bl...  positive\n",
       "4  Title: The Magic of Bose QuietComfort 35 II Wi...  positive"
      ]
     },
     "execution_count": 25,
     "metadata": {},
     "output_type": "execute_result"
    }
   ],
   "source": [
    "# Display the first few rows of the DataFrame\n",
    "df.head()"
   ]
  },
  {
   "cell_type": "code",
   "execution_count": 26,
   "id": "6faf9916-ab14-4e05-bd06-3cd3e3828ea1",
   "metadata": {},
   "outputs": [
    {
     "name": "stdout",
     "output_type": "stream",
     "text": [
      "Synthetic reviews saved to 'synthetic-data/synthetic_reviews.csv'\n"
     ]
    }
   ],
   "source": [
    "# Save Synthics Reviews to CSV File\n",
    "df.to_csv('../synthetic-data/synthetic_reviews.csv', index=False)\n",
    "print(\"Synthetic reviews saved to 'synthetic-data/synthetic_reviews.csv'\")"
   ]
  },
  {
   "cell_type": "code",
   "execution_count": 27,
   "id": "b56ce295-5e67-4178-9390-6e525e00439c",
   "metadata": {},
   "outputs": [
    {
     "data": {
      "text/html": [
       "<div>\n",
       "<style scoped>\n",
       "    .dataframe tbody tr th:only-of-type {\n",
       "        vertical-align: middle;\n",
       "    }\n",
       "\n",
       "    .dataframe tbody tr th {\n",
       "        vertical-align: top;\n",
       "    }\n",
       "\n",
       "    .dataframe thead th {\n",
       "        text-align: right;\n",
       "    }\n",
       "</style>\n",
       "<table border=\"1\" class=\"dataframe\">\n",
       "  <thead>\n",
       "    <tr style=\"text-align: right;\">\n",
       "      <th></th>\n",
       "      <th>text</th>\n",
       "      <th>label</th>\n",
       "    </tr>\n",
       "  </thead>\n",
       "  <tbody>\n",
       "    <tr>\n",
       "      <th>0</th>\n",
       "      <td>Title: A Stellar Experience with the Bose Quie...</td>\n",
       "      <td>positive</td>\n",
       "    </tr>\n",
       "    <tr>\n",
       "      <th>1</th>\n",
       "      <td>Title: Exceptional Experience with the Sony WH...</td>\n",
       "      <td>positive</td>\n",
       "    </tr>\n",
       "    <tr>\n",
       "      <th>2</th>\n",
       "      <td>Title: A Blissful Experience with the New Appl...</td>\n",
       "      <td>positive</td>\n",
       "    </tr>\n",
       "    <tr>\n",
       "      <th>3</th>\n",
       "      <td>Title: Delighted with my new PowerBlend 500 Bl...</td>\n",
       "      <td>positive</td>\n",
       "    </tr>\n",
       "    <tr>\n",
       "      <th>4</th>\n",
       "      <td>Title: The Magic of Bose QuietComfort 35 II Wi...</td>\n",
       "      <td>positive</td>\n",
       "    </tr>\n",
       "  </tbody>\n",
       "</table>\n",
       "</div>"
      ],
      "text/plain": [
       "                                                text     label\n",
       "0  Title: A Stellar Experience with the Bose Quie...  positive\n",
       "1  Title: Exceptional Experience with the Sony WH...  positive\n",
       "2  Title: A Blissful Experience with the New Appl...  positive\n",
       "3  Title: Delighted with my new PowerBlend 500 Bl...  positive\n",
       "4  Title: The Magic of Bose QuietComfort 35 II Wi...  positive"
      ]
     },
     "execution_count": 27,
     "metadata": {},
     "output_type": "execute_result"
    }
   ],
   "source": [
    "# Verify the Data will load\n",
    "df_loaded = pd.read_csv('../synthetic-data/synthetic_reviews.csv')\n",
    "df_loaded.head()"
   ]
  },
  {
   "cell_type": "code",
   "execution_count": null,
   "id": "d2cd54b2-42f4-4fed-8ec3-430ccc3d5c0a",
   "metadata": {},
   "outputs": [],
   "source": []
  }
 ],
 "metadata": {
  "kernelspec": {
   "display_name": "Python 3.9",
   "language": "python",
   "name": "python3"
  },
  "language_info": {
   "codemirror_mode": {
    "name": "ipython",
    "version": 3
   },
   "file_extension": ".py",
   "mimetype": "text/x-python",
   "name": "python",
   "nbconvert_exporter": "python",
   "pygments_lexer": "ipython3",
   "version": "3.9.16"
  }
 },
 "nbformat": 4,
 "nbformat_minor": 5
}
