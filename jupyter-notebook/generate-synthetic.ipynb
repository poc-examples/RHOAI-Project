{
 "cells": [
  {
   "cell_type": "code",
   "execution_count": null,
   "id": "56247828-9773-40eb-9d98-a3577469620c",
   "metadata": {
    "tags": []
   },
   "outputs": [],
   "source": [
    "!pip install openai==0.28 pandas"
   ]
  },
  {
   "cell_type": "code",
   "execution_count": null,
   "id": "c9bd43b7-d6e4-46a3-928e-208ca603ff8a",
   "metadata": {
    "tags": []
   },
   "outputs": [],
   "source": [
    "import openai\n",
    "import pandas as pd\n",
    "import time"
   ]
  },
  {
   "cell_type": "code",
   "execution_count": null,
   "id": "23cd4359-e49e-4229-b660-5deabeaec152",
   "metadata": {
    "tags": []
   },
   "outputs": [],
   "source": [
    "openai.api_key = 'KEY'"
   ]
  },
  {
   "cell_type": "code",
   "execution_count": null,
   "id": "65a9d8e0-e3e3-4c7c-8791-8a254df6a0c0",
   "metadata": {},
   "outputs": [],
   "source": [
    "# We will generate 10 reviews for each sentiment: positive, negative, and neutral\n",
    "positive_reviews = []\n",
    "negative_reviews = []\n",
    "neutral_reviews = []\n",
    "\n",
    "# Define the prompts for each sentiment type\n",
    "positive_prompt = \"Generate a positive product review with a friendly tone.\"\n",
    "negative_prompt = \"Generate a negative product review with a dissatisfied tone.\"\n",
    "neutral_prompt = \"Generate a neutral product review.\""
   ]
  },
  {
   "cell_type": "code",
   "execution_count": null,
   "id": "e82d8b10-e920-47ba-a74c-27e347051216",
   "metadata": {},
   "outputs": [],
   "source": [
    "# Generate 10 positive reviews\n",
    "for _ in range(10):\n",
    "    response = openai.ChatCompletion.create(\n",
    "        model=\"gpt-4\",\n",
    "        messages=[\n",
    "            {\"role\": \"system\", \"content\": \"You are a helpful assistant.\"},\n",
    "            {\"role\": \"user\", \"content\": positive_prompt}\n",
    "        ],\n",
    "        max_tokens=60,\n",
    "        temperature=0.7,\n",
    "    )\n",
    "    review = response['choices'][0]['message']['content'].strip()\n",
    "    positive_reviews.append({'text': review, 'label': 'positive'})\n",
    "    time.sleep(1)"
   ]
  },
  {
   "cell_type": "code",
   "execution_count": null,
   "id": "e838e770-58b8-4c10-904c-0690b2b154dc",
   "metadata": {
    "tags": []
   },
   "outputs": [],
   "source": [
    "for review in positive_reviews:\n",
    "    print(f\"{review['labels']}: {review['text'][0:45]}\")"
   ]
  },
  {
   "cell_type": "code",
   "execution_count": null,
   "id": "89552c58-75b9-49d2-b510-17c08dba1a74",
   "metadata": {},
   "outputs": [],
   "source": [
    "# Generate 10 negative reviews\n",
    "for _ in range(10):\n",
    "    response = openai.ChatCompletion.create(\n",
    "        model=\"gpt-4\",\n",
    "        messages=[\n",
    "            {\"role\": \"system\", \"content\": \"You are a helpful assistant.\"},\n",
    "            {\"role\": \"user\", \"content\": negative_prompt}\n",
    "        ],\n",
    "        max_tokens=60,\n",
    "        temperature=0.7,\n",
    "    )\n",
    "    review = response['choices'][0]['message']['content'].strip()\n",
    "    negative_reviews.append({'text': review, 'label': 'negative'})\n",
    "    time.sleep(1)"
   ]
  },
  {
   "cell_type": "code",
   "execution_count": null,
   "id": "81c6f1ff-755c-4659-b9e5-5d7dffbd20b7",
   "metadata": {
    "tags": []
   },
   "outputs": [],
   "source": [
    "for review in negative_reviews:\n",
    "    print(f\"{review['labels']}: {review['text'][0:35]}\")"
   ]
  },
  {
   "cell_type": "code",
   "execution_count": null,
   "id": "267a9a0a-d046-4faa-98bf-57da959e95d1",
   "metadata": {},
   "outputs": [],
   "source": [
    "# Generate 10 neutral reviews\n",
    "for _ in range(10):\n",
    "    response = openai.ChatCompletion.create(\n",
    "        model=\"gpt-4\",\n",
    "        messages=[\n",
    "            {\"role\": \"system\", \"content\": \"You are a helpful assistant.\"},\n",
    "            {\"role\": \"user\", \"content\": neutral_prompt}\n",
    "        ],\n",
    "        max_tokens=60,\n",
    "        temperature=0.7,\n",
    "    )\n",
    "    review = response['choices'][0]['message']['content'].strip()\n",
    "    neutral_reviews.append({'text': review, 'labels': 'neutral'})\n",
    "    time.sleep(1)"
   ]
  },
  {
   "cell_type": "code",
   "execution_count": null,
   "id": "edf9aec6-2ace-4ea8-8b74-450a3c6aab6f",
   "metadata": {
    "tags": []
   },
   "outputs": [],
   "source": [
    "for review in neutral_reviews:\n",
    "    print(f\"{review['labels']}: {review['text'][0:20]}\")"
   ]
  },
  {
   "cell_type": "code",
   "execution_count": null,
   "id": "0511a872-50da-4111-ac96-192ea5c01fa9",
   "metadata": {},
   "outputs": [],
   "source": [
    "# Combine the reviews into a DataFrame\n",
    "all_reviews = positive_reviews + negative_reviews + neutral_reviews\n",
    "df = pd.DataFrame(all_reviews)"
   ]
  },
  {
   "cell_type": "code",
   "execution_count": null,
   "id": "575533c8-432e-47af-9267-1f0b7a4bc968",
   "metadata": {
    "tags": []
   },
   "outputs": [],
   "source": [
    "# Display the first few rows of the DataFrame\n",
    "df.head()"
   ]
  },
  {
   "cell_type": "code",
   "execution_count": null,
   "id": "6faf9916-ab14-4e05-bd06-3cd3e3828ea1",
   "metadata": {},
   "outputs": [],
   "source": [
    "# Save Synthics Reviews to CSV File\n",
    "df.to_csv('../synthetic-data/synthetic_reviews.csv', index=False)\n",
    "print(\"Synthetic reviews saved to 'synthetic-data/synthetic_reviews.csv'\")"
   ]
  },
  {
   "cell_type": "code",
   "execution_count": null,
   "id": "b56ce295-5e67-4178-9390-6e525e00439c",
   "metadata": {},
   "outputs": [],
   "source": [
    "# Verify the Data will load\n",
    "df_loaded = pd.read_csv('../synthetic-data/synthetic_reviews.csv')\n",
    "df_loaded.head()"
   ]
  },
  {
   "cell_type": "code",
   "execution_count": null,
   "id": "d2cd54b2-42f4-4fed-8ec3-430ccc3d5c0a",
   "metadata": {},
   "outputs": [],
   "source": []
  }
 ],
 "metadata": {
  "kernelspec": {
   "display_name": "Python 3.9",
   "language": "python",
   "name": "python3"
  },
  "language_info": {
   "codemirror_mode": {
    "name": "ipython",
    "version": 3
   },
   "file_extension": ".py",
   "mimetype": "text/x-python",
   "name": "python",
   "nbconvert_exporter": "python",
   "pygments_lexer": "ipython3",
   "version": "3.9.18"
  }
 },
 "nbformat": 4,
 "nbformat_minor": 5
}
