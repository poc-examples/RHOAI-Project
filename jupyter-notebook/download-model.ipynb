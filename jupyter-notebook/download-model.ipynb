{
 "cells": [
  {
   "cell_type": "code",
   "execution_count": null,
   "id": "07264fd2-0acf-434c-9328-9a7ec2eed034",
   "metadata": {
    "tags": []
   },
   "outputs": [],
   "source": [
    "!pip install ipywidgets huggingface_hub"
   ]
  },
  {
   "cell_type": "code",
   "execution_count": null,
   "id": "bfab301f-d172-497a-98ef-57ddae49e74f",
   "metadata": {
    "tags": []
   },
   "outputs": [],
   "source": [
    "from huggingface_hub import snapshot_download\n",
    "import os"
   ]
  },
  {
   "cell_type": "code",
   "execution_count": null,
   "id": "0d7e0d75-9da0-4476-9239-8e9cd85b8d05",
   "metadata": {
    "tags": []
   },
   "outputs": [],
   "source": [
    "MODEL_REPO = \"meta-llama/Meta-Llama-3.1-8B-Instruct\""
   ]
  },
  {
   "cell_type": "code",
   "execution_count": null,
   "id": "73f1d95e-a173-427a-9d65-61d594389fe9",
   "metadata": {
    "tags": []
   },
   "outputs": [],
   "source": [
    "SAVE_DIR = \"/opt/app-root/src/hfmodels/\""
   ]
  },
  {
   "cell_type": "code",
   "execution_count": null,
   "id": "ae029b49-57de-4f46-b70e-4dcf86b01a29",
   "metadata": {
    "tags": []
   },
   "outputs": [],
   "source": [
    "os.environ[\"HF_HOME\"] = SAVE_DIR\n",
    "HF_TOKEN = \"HF_TOKEN\""
   ]
  },
  {
   "cell_type": "code",
   "execution_count": null,
   "id": "2932a40d-ff16-4878-a617-1bc1ee5aade2",
   "metadata": {
    "tags": []
   },
   "outputs": [],
   "source": [
    "snapshot_download(\n",
    "    repo_id=MODEL_REPO,\n",
    "    cache_dir=SAVE_DIR,\n",
    "    token=HF_TOKEN\n",
    ")"
   ]
  },
  {
   "cell_type": "code",
   "execution_count": null,
   "id": "ad192731-87f8-4800-9fbc-ae92679cc0c8",
   "metadata": {},
   "outputs": [],
   "source": []
  }
 ],
 "metadata": {
  "kernelspec": {
   "display_name": "Python 3.9",
   "language": "python",
   "name": "python3"
  },
  "language_info": {
   "codemirror_mode": {
    "name": "ipython",
    "version": 3
   },
   "file_extension": ".py",
   "mimetype": "text/x-python",
   "name": "python",
   "nbconvert_exporter": "python",
   "pygments_lexer": "ipython3",
   "version": "3.9.18"
  }
 },
 "nbformat": 4,
 "nbformat_minor": 5
}
