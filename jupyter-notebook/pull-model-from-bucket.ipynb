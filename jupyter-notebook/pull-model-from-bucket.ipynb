{
 "cells": [
  {
   "cell_type": "code",
   "execution_count": null,
   "id": "0c3fd900-027d-4b1c-80f6-23c06051a8af",
   "metadata": {
    "tags": []
   },
   "outputs": [],
   "source": [
    "!pip install boto3 tqdm"
   ]
  },
  {
   "cell_type": "code",
   "execution_count": null,
   "id": "9494cb3d-ddd4-4f94-8146-d60f356b4d8b",
   "metadata": {
    "tags": []
   },
   "outputs": [],
   "source": [
    "import boto3\n",
    "from tqdm import tqdm\n",
    "import os"
   ]
  },
  {
   "cell_type": "code",
   "execution_count": null,
   "id": "4f7d5a79-9ab3-490c-afd8-8722c79e3342",
   "metadata": {
    "tags": []
   },
   "outputs": [],
   "source": [
    "s3 = boto3.client('s3')"
   ]
  },
  {
   "cell_type": "code",
   "execution_count": null,
   "id": "64e646a4-e053-4605-a650-4987018e5b00",
   "metadata": {
    "tags": []
   },
   "outputs": [],
   "source": [
    "bucket_name = os.getenv(\"AWS_S3_BUCKET\")\n",
    "download_directory = '../../models'\n",
    "bucket_key = \"models/meta-llama/Meta-Llama-3.1-8B-Instruct-AWQ-INT4/\""
   ]
  },
  {
   "cell_type": "code",
   "execution_count": null,
   "id": "27ab2916-13ad-42eb-b75d-2607ecead174",
   "metadata": {
    "tags": []
   },
   "outputs": [],
   "source": [
    "print(bucket_name)"
   ]
  },
  {
   "cell_type": "code",
   "execution_count": null,
   "id": "4a4c27ab-14ad-4ee5-a612-c4fdad56ae08",
   "metadata": {
    "tags": []
   },
   "outputs": [],
   "source": [
    "response = s3.list_objects_v2(Bucket=bucket_name, Prefix=bucket_key)"
   ]
  },
  {
   "cell_type": "code",
   "execution_count": null,
   "id": "8cd45b9a-d4e5-40c6-96cb-f67f88465823",
   "metadata": {
    "tags": []
   },
   "outputs": [],
   "source": [
    "print(response)"
   ]
  },
  {
   "cell_type": "code",
   "execution_count": null,
   "id": "d445cf61-a729-41b2-9b26-4b15a5343fd2",
   "metadata": {
    "tags": []
   },
   "outputs": [],
   "source": [
    "if 'Contents' not in response:\n",
    "    print(\"No objects found in the bucket.\")\n",
    "else:\n",
    "    for obj in tqdm(response['Contents'], desc=\"Downloading files\", unit=\"file\"):\n",
    "        key = obj['Key']\n",
    "        file_name = os.path.join(download_directory, key.replace(bucket_key, ''))\n",
    "\n",
    "        os.makedirs(os.path.dirname(file_name), exist_ok=True)\n",
    "        s3.download_file(bucket_name, key, file_name)\n",
    "\n",
    "    print(\"Download complete!\")"
   ]
  },
  {
   "cell_type": "code",
   "execution_count": null,
   "id": "536563b1-74f2-41ef-91e8-34d382b797da",
   "metadata": {},
   "outputs": [],
   "source": []
  }
 ],
 "metadata": {
  "kernelspec": {
   "display_name": "Python 3.9",
   "language": "python",
   "name": "python3"
  },
  "language_info": {
   "codemirror_mode": {
    "name": "ipython",
    "version": 3
   },
   "file_extension": ".py",
   "mimetype": "text/x-python",
   "name": "python",
   "nbconvert_exporter": "python",
   "pygments_lexer": "ipython3",
   "version": "3.9.18"
  }
 },
 "nbformat": 4,
 "nbformat_minor": 5
}
