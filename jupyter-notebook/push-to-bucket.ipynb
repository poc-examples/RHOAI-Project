{
 "cells": [
  {
   "cell_type": "code",
   "execution_count": null,
   "id": "f4469d09-7409-4c7b-92c9-2a8df1a16b43",
   "metadata": {},
   "outputs": [],
   "source": [
    "!pip install boto3 tqdm"
   ]
  },
  {
   "cell_type": "code",
   "execution_count": null,
   "id": "5021cd65-9a6f-416a-a5d1-79d24d6062da",
   "metadata": {
    "tags": []
   },
   "outputs": [],
   "source": [
    "import boto3\n",
    "import os\n",
    "from boto3.s3.transfer import TransferConfig\n",
    "from tqdm import tqdm"
   ]
  },
  {
   "cell_type": "code",
   "execution_count": null,
   "id": "43d47807-ec0f-4a2e-a06e-782ccc4e1179",
   "metadata": {
    "tags": []
   },
   "outputs": [],
   "source": [
    "MODEL_REPO = \"meta-llama/Meta-Llama-3.1-8B-Instruct\"\n",
    "directory = '/opt/app-root/src/models/models--meta-llama--Meta-Llama-3.1-8B-Instruct/snapshots/8c22764a7e3675c50d4c7c9a4edb474456022b16'\n",
    "key_base = f'models/{MODEL_REPO}'\n",
    "bucket_name = os.getenv(\"AWS_S3_BUCKET\")"
   ]
  },
  {
   "cell_type": "code",
   "execution_count": null,
   "id": "84aa6903-1ce9-4476-baa8-0e1ddfbc7d00",
   "metadata": {
    "tags": []
   },
   "outputs": [],
   "source": [
    "config = TransferConfig(multipart_threshold=1024 * 25,  # 25MB\n",
    "                        max_concurrency=10,\n",
    "                        multipart_chunksize=1024 * 25,  # 25MB\n",
    "                        use_threads=True)"
   ]
  },
  {
   "cell_type": "code",
   "execution_count": null,
   "id": "bdb41d31-308a-4193-9580-d75ff0a5fb3a",
   "metadata": {
    "tags": []
   },
   "outputs": [],
   "source": [
    "for root, dirs, files in os.walk(directory):\n",
    "    for file in files:\n",
    "        file_path = os.path.join(root, file)\n",
    "        key_name = os.path.join(key_base, file)\n",
    "        print(key_name)\n",
    "        # Upload the file\n",
    "        try:\n",
    "            with tqdm(total=os.path.getsize(file_path), unit='B', unit_scale=True, desc=file_path) as pbar:\n",
    "                s3_client = boto3.client('s3')\n",
    "                s3_client.upload_file(\n",
    "                    file_path, \n",
    "                    bucket_name, \n",
    "                    key_name, \n",
    "                    Config=config, \n",
    "                    Callback=lambda bytes_transferred: pbar.update(bytes_transferred)\n",
    "                )\n",
    "            print(f'File {file_path} uploaded to {bucket_name}/{key_name}')\n",
    "        except Exception as e:\n",
    "            print(f'Error occurred while uploading {file_path}: {e}')"
   ]
  },
  {
   "cell_type": "code",
   "execution_count": null,
   "id": "3364fb21-c1b7-437a-a966-1b525e8256d9",
   "metadata": {},
   "outputs": [],
   "source": []
  }
 ],
 "metadata": {
  "kernelspec": {
   "display_name": "Python 3.9",
   "language": "python",
   "name": "python3"
  },
  "language_info": {
   "codemirror_mode": {
    "name": "ipython",
    "version": 3
   },
   "file_extension": ".py",
   "mimetype": "text/x-python",
   "name": "python",
   "nbconvert_exporter": "python",
   "pygments_lexer": "ipython3",
   "version": "3.9.16"
  }
 },
 "nbformat": 4,
 "nbformat_minor": 5
}
