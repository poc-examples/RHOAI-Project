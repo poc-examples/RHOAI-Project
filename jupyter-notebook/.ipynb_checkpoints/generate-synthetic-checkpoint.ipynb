{
 "cells": [
  {
   "cell_type": "code",
   "execution_count": 3,
   "id": "56247828-9773-40eb-9d98-a3577469620c",
   "metadata": {
    "tags": []
   },
   "outputs": [
    {
     "name": "stdout",
     "output_type": "stream",
     "text": [
      "Requirement already satisfied: openai in /opt/app-root/lib/python3.9/site-packages (1.46.1)\n",
      "Requirement already satisfied: pandas in /opt/app-root/lib/python3.9/site-packages (2.2.2)\n",
      "Requirement already satisfied: anyio<5,>=3.5.0 in /opt/app-root/lib/python3.9/site-packages (from openai) (4.4.0)\n",
      "Requirement already satisfied: jiter<1,>=0.4.0 in /opt/app-root/lib/python3.9/site-packages (from openai) (0.5.0)\n",
      "Requirement already satisfied: distro<2,>=1.7.0 in /opt/app-root/lib/python3.9/site-packages (from openai) (1.9.0)\n",
      "Requirement already satisfied: typing-extensions<5,>=4.11 in /opt/app-root/lib/python3.9/site-packages (from openai) (4.12.2)\n",
      "Requirement already satisfied: tqdm>4 in /opt/app-root/lib/python3.9/site-packages (from openai) (4.66.5)\n",
      "Requirement already satisfied: sniffio in /opt/app-root/lib/python3.9/site-packages (from openai) (1.3.1)\n",
      "Requirement already satisfied: httpx<1,>=0.23.0 in /opt/app-root/lib/python3.9/site-packages (from openai) (0.27.2)\n",
      "Requirement already satisfied: pydantic<3,>=1.9.0 in /opt/app-root/lib/python3.9/site-packages (from openai) (1.10.18)\n",
      "Requirement already satisfied: python-dateutil>=2.8.2 in /opt/app-root/lib/python3.9/site-packages (from pandas) (2.9.0.post0)\n",
      "Requirement already satisfied: numpy>=1.22.4 in /opt/app-root/lib/python3.9/site-packages (from pandas) (1.26.4)\n",
      "Requirement already satisfied: pytz>=2020.1 in /opt/app-root/lib/python3.9/site-packages (from pandas) (2024.1)\n",
      "Requirement already satisfied: tzdata>=2022.7 in /opt/app-root/lib/python3.9/site-packages (from pandas) (2024.1)\n",
      "Requirement already satisfied: exceptiongroup>=1.0.2 in /opt/app-root/lib/python3.9/site-packages (from anyio<5,>=3.5.0->openai) (1.2.2)\n",
      "Requirement already satisfied: idna>=2.8 in /opt/app-root/lib/python3.9/site-packages (from anyio<5,>=3.5.0->openai) (3.8)\n",
      "Requirement already satisfied: httpcore==1.* in /opt/app-root/lib/python3.9/site-packages (from httpx<1,>=0.23.0->openai) (1.0.5)\n",
      "Requirement already satisfied: certifi in /opt/app-root/lib/python3.9/site-packages (from httpx<1,>=0.23.0->openai) (2024.7.4)\n",
      "Requirement already satisfied: h11<0.15,>=0.13 in /opt/app-root/lib/python3.9/site-packages (from httpcore==1.*->httpx<1,>=0.23.0->openai) (0.14.0)\n",
      "Requirement already satisfied: six>=1.5 in /opt/app-root/lib/python3.9/site-packages (from python-dateutil>=2.8.2->pandas) (1.16.0)\n",
      "\n",
      "\u001b[1m[\u001b[0m\u001b[34;49mnotice\u001b[0m\u001b[1;39;49m]\u001b[0m\u001b[39;49m A new release of pip available: \u001b[0m\u001b[31;49m22.2.2\u001b[0m\u001b[39;49m -> \u001b[0m\u001b[32;49m24.2\u001b[0m\n",
      "\u001b[1m[\u001b[0m\u001b[34;49mnotice\u001b[0m\u001b[1;39;49m]\u001b[0m\u001b[39;49m To update, run: \u001b[0m\u001b[32;49mpip install --upgrade pip\u001b[0m\n"
     ]
    }
   ],
   "source": [
    "!pip install openai pandas"
   ]
  },
  {
   "cell_type": "code",
   "execution_count": 2,
   "id": "c9bd43b7-d6e4-46a3-928e-208ca603ff8a",
   "metadata": {
    "tags": []
   },
   "outputs": [],
   "source": [
    "import pandas as pd\n",
    "import time"
   ]
  },
  {
   "cell_type": "code",
   "execution_count": null,
   "id": "65a9d8e0-e3e3-4c7c-8791-8a254df6a0c0",
   "metadata": {},
   "outputs": [],
   "source": [
    "# We will generate 10 reviews for each sentiment: positive, negative, and neutral\n",
    "positive_reviews = []\n",
    "negative_reviews = []\n",
    "neutral_reviews = []\n",
    "\n",
    "# Define the prompts for each sentiment type\n",
    "positive_prompt = \"Generate a positive product review with a friendly tone.\"\n",
    "negative_prompt = \"Generate a negative product review with a dissatisfied tone.\"\n",
    "neutral_prompt = \"Generate a neutral product review.\""
   ]
  },
  {
   "cell_type": "code",
   "execution_count": null,
   "id": "e82d8b10-e920-47ba-a74c-27e347051216",
   "metadata": {},
   "outputs": [],
   "source": [
    "# Generate 10 positive reviews\n",
    "for _ in range(10):\n",
    "    response = openai.Completion.create(\n",
    "        engine=\"gpt-4\",  # Specify GPT model\n",
    "        prompt=positive_prompt,\n",
    "        max_tokens=60,  # Limit the length of the response\n",
    "        n=1,  # Generate only one response\n",
    "        temperature=0.7,  # Adds randomness for variation\n",
    "    )\n",
    "    review = response.choices[0].text.strip()\n",
    "    positive_reviews.append({'text': review, 'label': 'positive'})\n",
    "    time.sleep(1)  # Add delay to avoid hitting API rate limits"
   ]
  },
  {
   "cell_type": "code",
   "execution_count": null,
   "id": "89552c58-75b9-49d2-b510-17c08dba1a74",
   "metadata": {},
   "outputs": [],
   "source": [
    "# Generate 10 negative reviews\n",
    "for _ in range(10):\n",
    "    response = openai.Completion.create(\n",
    "        engine=\"gpt-4\",\n",
    "        prompt=negative_prompt,\n",
    "        max_tokens=60,\n",
    "        n=1,\n",
    "        temperature=0.7,\n",
    "    )\n",
    "    review = response.choices[0].text.strip()\n",
    "    negative_reviews.append({'text': review, 'label': 'negative'})\n",
    "    time.sleep(1)"
   ]
  },
  {
   "cell_type": "code",
   "execution_count": null,
   "id": "267a9a0a-d046-4faa-98bf-57da959e95d1",
   "metadata": {},
   "outputs": [],
   "source": [
    "# Generate 10 neutral reviews\n",
    "for _ in range(10):\n",
    "    response = openai.Completion.create(\n",
    "        engine=\"gpt-4\",\n",
    "        prompt=neutral_prompt,\n",
    "        max_tokens=60,\n",
    "        n=1,\n",
    "        temperature=0.7,\n",
    "    )\n",
    "    review = response.choices[0].text.strip()\n",
    "    neutral_reviews.append({'text': review, 'label': 'neutral'})\n",
    "    time.sleep(1)"
   ]
  },
  {
   "cell_type": "code",
   "execution_count": null,
   "id": "0511a872-50da-4111-ac96-192ea5c01fa9",
   "metadata": {},
   "outputs": [],
   "source": [
    "# Combine the reviews into a DataFrame\n",
    "all_reviews = positive_reviews + negative_reviews + neutral_reviews\n",
    "df = pd.DataFrame(all_reviews)"
   ]
  },
  {
   "cell_type": "code",
   "execution_count": 4,
   "id": "575533c8-432e-47af-9267-1f0b7a4bc968",
   "metadata": {
    "tags": []
   },
   "outputs": [
    {
     "ename": "NameError",
     "evalue": "name 'df' is not defined",
     "output_type": "error",
     "traceback": [
      "\u001b[0;31m---------------------------------------------------------------------------\u001b[0m",
      "\u001b[0;31mNameError\u001b[0m                                 Traceback (most recent call last)",
      "Cell \u001b[0;32mIn[4], line 1\u001b[0m\n\u001b[0;32m----> 1\u001b[0m \u001b[43mdf\u001b[49m\u001b[38;5;241m.\u001b[39mhead()\n",
      "\u001b[0;31mNameError\u001b[0m: name 'df' is not defined"
     ]
    }
   ],
   "source": [
    "# Display the first few rows of the DataFrame\n",
    "df.head()"
   ]
  },
  {
   "cell_type": "code",
   "execution_count": null,
   "id": "6faf9916-ab14-4e05-bd06-3cd3e3828ea1",
   "metadata": {},
   "outputs": [],
   "source": [
    "# Save Synthics Reviews to CSV File\n",
    "df.to_csv('synthetic_reviews.csv', index=False)\n",
    "print(\"Synthetic reviews saved to 'synthetic_reviews.csv'\")"
   ]
  },
  {
   "cell_type": "code",
   "execution_count": null,
   "id": "b56ce295-5e67-4178-9390-6e525e00439c",
   "metadata": {},
   "outputs": [],
   "source": [
    "# Verify the Data will load\n",
    "df_loaded = pd.read_csv('synthetic_reviews.csv')\n",
    "df_loaded.head()"
   ]
  }
 ],
 "metadata": {
  "kernelspec": {
   "display_name": "Python 3.9",
   "language": "python",
   "name": "python3"
  },
  "language_info": {
   "codemirror_mode": {
    "name": "ipython",
    "version": 3
   },
   "file_extension": ".py",
   "mimetype": "text/x-python",
   "name": "python",
   "nbconvert_exporter": "python",
   "pygments_lexer": "ipython3",
   "version": "3.9.16"
  }
 },
 "nbformat": 4,
 "nbformat_minor": 5
}
