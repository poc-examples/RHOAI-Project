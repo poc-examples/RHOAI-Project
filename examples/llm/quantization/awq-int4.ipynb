{
 "cells": [
  {
   "cell_type": "code",
   "execution_count": null,
   "id": "40d118da-37fe-4ff3-b7ae-85a1df508384",
   "metadata": {},
   "outputs": [],
   "source": [
    "!pip install autoawq transformers"
   ]
  },
  {
   "cell_type": "code",
   "execution_count": null,
   "id": "6884c76e-310c-4e61-a4a0-916dd81f4f74",
   "metadata": {},
   "outputs": [],
   "source": [
    "import os\n",
    "from awq import AutoAWQForCausalLM\n",
    "from transformers import AutoTokenizer"
   ]
  },
  {
   "cell_type": "code",
   "execution_count": null,
   "id": "3b8176f8-2fdb-4a83-adf3-3cacb3b911a7",
   "metadata": {},
   "outputs": [],
   "source": [
    "model_path = \"/opt/app-root/src/models/models--meta-llama--Meta-Llama-3.1-8B-Instruct/snapshots/8c22764a7e3675c50d4c7c9a4edb474456022b16\"\n",
    "quant_path = \"/opt/app-root/src/models/Meta-Llama-3.1-8B-Instruct-AWQ-INT4\"\n",
    "quant_config = {\n",
    "  \"zero_point\": True,\n",
    "  \"q_group_size\": 128,\n",
    "  \"w_bit\": 4,\n",
    "  \"version\": \"GEMM\",\n",
    "}"
   ]
  },
  {
   "cell_type": "code",
   "execution_count": null,
   "id": "51f32c9e-dfdf-4760-99d3-6956e03f1a74",
   "metadata": {},
   "outputs": [],
   "source": [
    "tokenizer = AutoTokenizer.from_pretrained(model_path)\n",
    "model = AutoAWQForCausalLM.from_pretrained(\n",
    "    model_path, \n",
    "    low_cpu_mem_usage=True, \n",
    "    use_cache=False,\n",
    "    local_files_only=True\n",
    ").to(\"cuda:0\")"
   ]
  },
  {
   "cell_type": "code",
   "execution_count": null,
   "id": "9cd76728-69df-43fa-9bbb-ee47ee3cac76",
   "metadata": {},
   "outputs": [],
   "source": [
    "model.quantize(tokenizer, quant_config=quant_config)"
   ]
  },
  {
   "cell_type": "code",
   "execution_count": null,
   "id": "2f2b0dc0-1ba6-4ac0-86bb-96ce9a8989f6",
   "metadata": {},
   "outputs": [],
   "source": [
    "model.save_quantized(quant_path)\n",
    "tokenizer.save_pretrained(quant_path)"
   ]
  }
 ],
 "metadata": {
  "kernelspec": {
   "display_name": "Python 3.9",
   "language": "python",
   "name": "python3"
  },
  "language_info": {
   "codemirror_mode": {
    "name": "ipython",
    "version": 3
   },
   "file_extension": ".py",
   "mimetype": "text/x-python",
   "name": "python",
   "nbconvert_exporter": "python",
   "pygments_lexer": "ipython3",
   "version": "3.9.18"
  }
 },
 "nbformat": 4,
 "nbformat_minor": 5
}
