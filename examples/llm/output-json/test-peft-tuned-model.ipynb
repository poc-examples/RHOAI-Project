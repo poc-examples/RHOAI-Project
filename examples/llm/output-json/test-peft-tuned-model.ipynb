{
 "cells": [
  {
   "cell_type": "code",
   "execution_count": null,
   "id": "4f653847-0000-4284-8861-49c4a57bcce3",
   "metadata": {
    "tags": []
   },
   "outputs": [],
   "source": [
    "!pip install torch Cython"
   ]
  },
  {
   "cell_type": "code",
   "execution_count": null,
   "id": "a0cb8c17-c6ee-47b3-878e-f44e9638116f",
   "metadata": {
    "tags": []
   },
   "outputs": [],
   "source": [
    "import torch\n",
    "print(torch.__version__)\n",
    "print(torch.cuda.is_available())"
   ]
  },
  {
   "cell_type": "code",
   "execution_count": null,
   "id": "5d279e58-7bb3-41d9-afde-07dd6d4c4bf7",
   "metadata": {
    "tags": []
   },
   "outputs": [],
   "source": [
    "import os\n",
    "os.environ[\"CUDA_VISIBLE_DEVICES\"] = \"0\""
   ]
  },
  {
   "cell_type": "code",
   "execution_count": null,
   "id": "0b06f561-d9f8-4c6a-bd77-30d0b8267e1b",
   "metadata": {
    "tags": []
   },
   "outputs": [],
   "source": [
    "from transformers import AutoTokenizer, AutoModelForCausalLM\n",
    "\n",
    "base_model_path = \"../../models/\"\n",
    "\n",
    "# Load the saved model and tokenizer\n",
    "tokenizer = AutoTokenizer.from_pretrained(base_model_path)\n",
    "model = AutoModelForCausalLM.from_pretrained(base_model_path)"
   ]
  },
  {
   "cell_type": "code",
   "execution_count": null,
   "id": "a3b84723-fbad-4c59-aa69-a469db2694f5",
   "metadata": {},
   "outputs": [],
   "source": [
    "from peft import PeftModel\n",
    "\n",
    "adapter = \"../../trained-model\"\n",
    "model = PeftModel.from_pretrained(model, adapter)"
   ]
  },
  {
   "cell_type": "code",
   "execution_count": null,
   "id": "791de57f-c6a5-4a90-8a61-95427fe3a74d",
   "metadata": {
    "tags": []
   },
   "outputs": [],
   "source": [
    "# Move the model to GPU if available\n",
    "model.to(\"cuda\")"
   ]
  },
  {
   "cell_type": "code",
   "execution_count": null,
   "id": "e50a6c6e-aced-4032-89cb-7631ee4a42c4",
   "metadata": {
    "tags": []
   },
   "outputs": [],
   "source": [
    "# Tokenize input text for testing\n",
    "input_text = \"We purchased these chicken wings in the store and they were fantastic.\"\n",
    "inputs = tokenizer(input_text, return_tensors=\"pt\")\n",
    "inputs = {k: v.to(\"cuda\") for k, v in inputs.items()}\n",
    "\n",
    "# Generate text or run inference\n",
    "output = model.generate(inputs[\"input_ids\"], max_length=50)\n",
    "print(tokenizer.decode(output[0], skip_special_tokens=True))"
   ]
  },
  {
   "cell_type": "code",
   "execution_count": null,
   "id": "19a55406-9db6-496c-8b75-8daffe83e350",
   "metadata": {},
   "outputs": [],
   "source": []
  }
 ],
 "metadata": {
  "kernelspec": {
   "display_name": "Python 3.9",
   "language": "python",
   "name": "python3"
  },
  "language_info": {
   "codemirror_mode": {
    "name": "ipython",
    "version": 3
   },
   "file_extension": ".py",
   "mimetype": "text/x-python",
   "name": "python",
   "nbconvert_exporter": "python",
   "pygments_lexer": "ipython3",
   "version": "3.9.18"
  }
 },
 "nbformat": 4,
 "nbformat_minor": 5
}
